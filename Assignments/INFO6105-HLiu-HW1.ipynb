{
 "cells": [
  {
   "cell_type": "markdown",
   "metadata": {},
   "source": [
    "# INFO6105 Instructor: Dr. Handan Liu\n",
    "Homework 1  \n",
    "Signed on 2020/01/23\n",
    "Submitted by the end of 2020/01/30 on Blackboard. The late submission will be accepted up to one day after the deadline with a 50% penalty according to the policy in the syllabus.\n",
    "\n",
    "Grading: total 100 points."
   ]
  },
  {
   "cell_type": "markdown",
   "metadata": {},
   "source": [
    "# **1. Create Numpy Arrays:  total 28 points**\n"
   ]
  },
  {
   "cell_type": "code",
   "execution_count": 2,
   "metadata": {},
   "outputs": [],
   "source": [
    "import numpy as np"
   ]
  },
  {
   "cell_type": "markdown",
   "metadata": {},
   "source": [
    "**1) Create an array of [1, 2, 3].    - 1 point**\n"
   ]
  },
  {
   "cell_type": "code",
   "execution_count": 6,
   "metadata": {},
   "outputs": [
    {
     "name": "stdout",
     "output_type": "stream",
     "text": [
      "[1 2 3]\n"
     ]
    }
   ],
   "source": [
    "arr = np.array([1, 2, 3])\n",
    "print(arr)"
   ]
  },
  {
   "cell_type": "markdown",
   "metadata": {},
   "source": [
    "**2) Let x = [1, 2]. Convert it into an array.  - 1 point**\n"
   ]
  },
  {
   "cell_type": "code",
   "execution_count": 11,
   "metadata": {},
   "outputs": [
    {
     "name": "stdout",
     "output_type": "stream",
     "text": [
      "[1, 2]\n",
      "<class 'list'>\n"
     ]
    }
   ],
   "source": [
    "x = [1, 2]\n",
    "print(x)\n",
    "print(type(x))"
   ]
  },
  {
   "cell_type": "code",
   "execution_count": 17,
   "metadata": {},
   "outputs": [
    {
     "data": {
      "text/plain": [
       "array([1, 2])"
      ]
     },
     "execution_count": 17,
     "metadata": {},
     "output_type": "execute_result"
    }
   ],
   "source": [
    "np.array(x)"
   ]
  },
  {
   "cell_type": "code",
   "execution_count": 19,
   "metadata": {},
   "outputs": [
    {
     "name": "stdout",
     "output_type": "stream",
     "text": [
      "<class 'numpy.ndarray'>\n"
     ]
    }
   ],
   "source": [
    "print(type(np.array(x)))"
   ]
  },
  {
   "cell_type": "markdown",
   "metadata": {},
   "source": [
    "**3) Create a new array of 3 x 2 float numbers, filled with ones.  - 1 point**"
   ]
  },
  {
   "cell_type": "code",
   "execution_count": 39,
   "metadata": {},
   "outputs": [],
   "source": [
    "arrOnes = np.ones([3,2],dtype=float)"
   ]
  },
  {
   "cell_type": "code",
   "execution_count": 40,
   "metadata": {},
   "outputs": [
    {
     "data": {
      "text/plain": [
       "array([[1., 1.],\n",
       "       [1., 1.],\n",
       "       [1., 1.]])"
      ]
     },
     "execution_count": 40,
     "metadata": {},
     "output_type": "execute_result"
    }
   ],
   "source": [
    "arrOnes"
   ]
  },
  {
   "cell_type": "markdown",
   "metadata": {},
   "source": [
    "**4) Create a 3-D array with ones on the diagonal and zeros elsewhere.  - 1 point**"
   ]
  },
  {
   "cell_type": "code",
   "execution_count": 42,
   "metadata": {},
   "outputs": [
    {
     "name": "stdout",
     "output_type": "stream",
     "text": [
      "[[1. 0. 0.]\n",
      " [0. 1. 0.]\n",
      " [0. 0. 1.]]\n"
     ]
    }
   ],
   "source": [
    "import numpy as np\n",
    "ex3 = np.eye(3,3)\n",
    "print(ex3)"
   ]
  },
  {
   "cell_type": "markdown",
   "metadata": {},
   "source": [
    "**5) Create a new array of 2 x 5 uints, filled with 6.   - 2 point**"
   ]
  },
  {
   "cell_type": "code",
   "execution_count": 3,
   "metadata": {},
   "outputs": [
    {
     "name": "stdout",
     "output_type": "stream",
     "text": [
      "[[6 6 6 6 6]\n",
      " [6 6 6 6 6]]\n"
     ]
    }
   ],
   "source": [
    "full=np.full((2,5),6)\n",
    "print(full)"
   ]
  },
  {
   "cell_type": "markdown",
   "metadata": {},
   "source": [
    "**6) Create an array of 2, 4, 6, 8, ..., 98, 100.   - 2 point**"
   ]
  },
  {
   "cell_type": "code",
   "execution_count": 6,
   "metadata": {},
   "outputs": [
    {
     "name": "stdout",
     "output_type": "stream",
     "text": [
      "[  2   4   6   8  10  12  14  16  18  20  22  24  26  28  30  32  34  36\n",
      "  38  40  42  44  46  48  50  52  54  56  58  60  62  64  66  68  70  72\n",
      "  74  76  78  80  82  84  86  88  90  92  94  96  98 100]\n"
     ]
    }
   ],
   "source": [
    "arrayEven = np.arange(2,101,2)\n",
    "print(arrayEven)"
   ]
  },
  {
   "cell_type": "markdown",
   "metadata": {},
   "source": [
    "**7) create an array of 10 zeros; another array of 10 fives. - 2 points**"
   ]
  },
  {
   "cell_type": "code",
   "execution_count": 8,
   "metadata": {},
   "outputs": [
    {
     "name": "stdout",
     "output_type": "stream",
     "text": [
      "[0. 0. 0. 0. 0. 0. 0. 0. 0. 0.]\n"
     ]
    }
   ],
   "source": [
    "#Array of 10 zeros\n",
    "arrZeros = np.zeros((10))\n",
    "print(arrZeros)"
   ]
  },
  {
   "cell_type": "code",
   "execution_count": 18,
   "metadata": {},
   "outputs": [
    {
     "name": "stdout",
     "output_type": "stream",
     "text": [
      "[5. 5. 5. 5. 5. 5. 5. 5. 5. 5.]\n"
     ]
    }
   ],
   "source": [
    "#Array of 10 fives\n",
    "arrFives = np.ones(10)*5\n",
    "print(arrFives)"
   ]
  },
  {
   "cell_type": "markdown",
   "metadata": {},
   "source": [
    "**8) create a 3x3x3 array filled with arbitrary values. - 2 points**"
   ]
  },
  {
   "cell_type": "code",
   "execution_count": 9,
   "metadata": {},
   "outputs": [
    {
     "name": "stdout",
     "output_type": "stream",
     "text": [
      "[[[0.96503636 0.21086994 0.25866994]\n",
      "  [0.64745067 0.94783997 0.95184505]\n",
      "  [0.01728592 0.30354361 0.25153887]]\n",
      "\n",
      " [[0.20250417 0.90102677 0.56547601]\n",
      "  [0.66476106 0.487956   0.8176733 ]\n",
      "  [0.16669076 0.47654569 0.55909706]]\n",
      "\n",
      " [[0.98490813 0.41323813 0.10764012]\n",
      "  [0.83514817 0.68341791 0.31735992]\n",
      "  [0.30651933 0.5184885  0.73152601]]]\n"
     ]
    }
   ],
   "source": [
    "x = np.random.random((3,3,3))\n",
    "print(x)"
   ]
  },
  {
   "cell_type": "markdown",
   "metadata": {},
   "source": [
    "**9) create a 3x4 matrix filled with values from 10 to 21 (inclusive). - 6 ponits**"
   ]
  },
  {
   "cell_type": "code",
   "execution_count": 11,
   "metadata": {},
   "outputs": [
    {
     "name": "stdout",
     "output_type": "stream",
     "text": [
      "[[10 11 12 13]\n",
      " [14 15 16 17]\n",
      " [18 19 20 21]]\n"
     ]
    }
   ],
   "source": [
    "p = np.arange(10,22).reshape((3,4))\n",
    "print(p)"
   ]
  },
  {
   "cell_type": "markdown",
   "metadata": {},
   "source": [
    "**10) Create an 4x4 matrix in which 0 and 1 are staggered, with zeros on the main diagonal. Please use the numpy \"slicing\" method to realize.**\n",
    "     - 10 points"
   ]
  },
  {
   "cell_type": "code",
   "execution_count": 13,
   "metadata": {},
   "outputs": [
    {
     "name": "stdout",
     "output_type": "stream",
     "text": [
      "[[0. 1. 0. 1.]\n",
      " [1. 0. 1. 0.]\n",
      " [0. 1. 0. 1.]\n",
      " [1. 0. 1. 0.]]\n"
     ]
    }
   ],
   "source": [
    "m = np.zeros((4,4))\n",
    "m[::2,1::2]=1\n",
    "m[1::2,::2]=1\n",
    "print(m)"
   ]
  },
  {
   "cell_type": "markdown",
   "metadata": {},
   "source": [
    "# **2. Numpy Randm Number  - total 8 points**\n",
    "    - 4 points\n"
   ]
  },
  {
   "cell_type": "markdown",
   "metadata": {},
   "source": [
    "**1) Assign number 10 to the seed of the random generator so that you can get the same value next time.   - 2 point**"
   ]
  },
  {
   "cell_type": "code",
   "execution_count": 83,
   "metadata": {},
   "outputs": [
    {
     "name": "stdout",
     "output_type": "stream",
     "text": [
      "Random number with seed 10\n",
      "First random value-  43\n",
      "Second random value-  43\n",
      "Different random value-  48\n"
     ]
    }
   ],
   "source": [
    "import random\n",
    "print (\"Random number with seed 10\")\n",
    "random.seed( 10 )\n",
    "print (\"First random value- \", random.randint(25,50))\n",
    "\n",
    "random.seed( 10 )\n",
    "print (\"Second random value- \", random.randint(25,50))\n",
    "\n",
    "random.seed( 20 )\n",
    "print (\"Different random value- \", random.randint(25,50))"
   ]
  },
  {
   "cell_type": "markdown",
   "metadata": {},
   "source": [
    "**2) Create an array of shape (3, 2) and populate it with random samples from a uniform distribution over [0, 1).  - 2 point**"
   ]
  },
  {
   "cell_type": "code",
   "execution_count": 45,
   "metadata": {},
   "outputs": [
    {
     "name": "stdout",
     "output_type": "stream",
     "text": [
      "[[0.51814647 0.49849209]\n",
      " [0.5289514  0.65183359]\n",
      " [0.94549513 0.83773745]]\n"
     ]
    }
   ],
   "source": [
    "xy = np.random.uniform(0, 1, size = (3,2))\n",
    "print(xy)"
   ]
  },
  {
   "cell_type": "markdown",
   "metadata": {},
   "source": [
    "**3) Create an array of shape (3, 2) and populate it with random integers ranging from 0 to 3 (inclusive) from a discrete uniform distribution.** "
   ]
  },
  {
   "cell_type": "code",
   "execution_count": 47,
   "metadata": {
    "scrolled": true
   },
   "outputs": [
    {
     "name": "stdout",
     "output_type": "stream",
     "text": [
      "[[3 0]\n",
      " [2 0]\n",
      " [0 3]]\n"
     ]
    }
   ],
   "source": [
    "intxy = np.random.randint(4,size=(3,2))\n",
    "print(intxy)"
   ]
  },
  {
   "cell_type": "markdown",
   "metadata": {},
   "source": [
    "# 3. Operate on Numpy Arrays: total 23 points\n"
   ]
  },
  {
   "cell_type": "markdown",
   "metadata": {},
   "source": [
    "**1) Let x be an array [1, 2, 3, ..., 9]. Split x into 3 arrays, each of which has 4, 2, and 3 elements in the original order. - 4 points**"
   ]
  },
  {
   "cell_type": "code",
   "execution_count": 48,
   "metadata": {},
   "outputs": [
    {
     "name": "stdout",
     "output_type": "stream",
     "text": [
      "Original Array:  [1 2 3 4 5 6 7 8 9]\n",
      "After Spliting in 4,2 and 3 elements: \n",
      "[array([1, 2, 3, 4]), array([5, 6]), array([7, 8, 9])]\n"
     ]
    }
   ],
   "source": [
    "z = np.arange(1,10)\n",
    "print(\"Original Array: \",z)\n",
    "print(\"After Spliting in 4,2 and 3 elements: \")\n",
    "print(np.split(z,[4,6]))"
   ]
  },
  {
   "cell_type": "markdown",
   "metadata": {},
   "source": [
    "**2) Given an array    - 8 points\n",
    "[[ 0., 1., 2., 3.],\n",
    "[ 4., 5., 6., 7.],\n",
    "[ 8., 9., 10., 11.],\n",
    "[ 12., 13., 14., 15.]].\n",
    "Split it into two arrays along the second axis.**"
   ]
  },
  {
   "cell_type": "code",
   "execution_count": 50,
   "metadata": {},
   "outputs": [
    {
     "name": "stdout",
     "output_type": "stream",
     "text": [
      "Original array: [[ 0  1  2  3]\n",
      " [ 4  5  6  7]\n",
      " [ 8  9 10 11]\n",
      " [12 13 14 15]]\n",
      "After splitting horizontally:\n",
      "[array([[ 0,  1],\n",
      "       [ 4,  5],\n",
      "       [ 8,  9],\n",
      "       [12, 13]]), array([[ 2,  3],\n",
      "       [ 6,  7],\n",
      "       [10, 11],\n",
      "       [14, 15]])]\n"
     ]
    }
   ],
   "source": [
    "n = np.arange(16).reshape((4, 4))\n",
    "print(\"Original array:\",n)\n",
    "print(\"After splitting horizontally:\")\n",
    "print(np.hsplit(n, [2]))"
   ]
  },
  {
   "cell_type": "markdown",
   "metadata": {},
   "source": [
    "**3) Given an array: [[5,10,15],[20,25,30],[35,40,45]]   - 4 points\n",
    "(1) Slicing to get the sub-array [[10,15],[25,30]]\n",
    "(2) Getting individual element value \"20\"**"
   ]
  },
  {
   "cell_type": "code",
   "execution_count": 64,
   "metadata": {},
   "outputs": [
    {
     "data": {
      "text/plain": [
       "array([[ 5, 10, 15],\n",
       "       [20, 25, 30],\n",
       "       [35, 40, 45]])"
      ]
     },
     "execution_count": 64,
     "metadata": {},
     "output_type": "execute_result"
    }
   ],
   "source": [
    "x=np.arange(5,50,5).reshape(3,3)\n",
    "x"
   ]
  },
  {
   "cell_type": "markdown",
   "metadata": {},
   "source": [
    "**(1) Slicing to get the sub-array [[10,15],[25,30]]**"
   ]
  },
  {
   "cell_type": "code",
   "execution_count": 65,
   "metadata": {},
   "outputs": [
    {
     "name": "stdout",
     "output_type": "stream",
     "text": [
      "[[10 15]\n",
      " [25 30]]\n"
     ]
    }
   ],
   "source": [
    "print(x[0:2,1:3])"
   ]
  },
  {
   "cell_type": "markdown",
   "metadata": {},
   "source": [
    "**(2) Getting individual element value \"20\"**"
   ]
  },
  {
   "cell_type": "code",
   "execution_count": 66,
   "metadata": {},
   "outputs": [
    {
     "data": {
      "text/plain": [
       "array([[20]])"
      ]
     },
     "execution_count": 66,
     "metadata": {},
     "output_type": "execute_result"
    }
   ],
   "source": [
    "x[1:2,0:1]"
   ]
  },
  {
   "cell_type": "markdown",
   "metadata": {},
   "source": [
    "**4)  - 6 points\n",
    "Let x be an array**\n",
    "[[ 1 2 3]\n",
    " [ 4 5 6]].\n",
    "\n",
    "and y be an array\n",
    "[[ 7 8 9]\n",
    " [10 11 12]].\n",
    "\n",
    "Concatenate x and y so that a new array looks like\n",
    "[[1, 2, 3, 7, 8, 9],\n",
    " [4, 5, 6, 10, 11, 12]]."
   ]
  },
  {
   "cell_type": "code",
   "execution_count": 32,
   "metadata": {},
   "outputs": [
    {
     "name": "stdout",
     "output_type": "stream",
     "text": [
      "[[1 2 3]\n",
      " [4 5 6]]\n"
     ]
    }
   ],
   "source": [
    "x = np.arange(1,7).reshape(2,3)\n",
    "print(x)"
   ]
  },
  {
   "cell_type": "code",
   "execution_count": 33,
   "metadata": {},
   "outputs": [
    {
     "name": "stdout",
     "output_type": "stream",
     "text": [
      "[[ 7  8  9]\n",
      " [10 11 12]]\n"
     ]
    }
   ],
   "source": [
    "y = np.arange(7,13).reshape(2,3)\n",
    "print(y)"
   ]
  },
  {
   "cell_type": "code",
   "execution_count": 34,
   "metadata": {},
   "outputs": [
    {
     "name": "stdout",
     "output_type": "stream",
     "text": [
      "Concatenated Array is : [[ 1  2  3  7  8  9]\n",
      " [ 4  5  6 10 11 12]]\n"
     ]
    }
   ],
   "source": [
    "#Concatenate x and y to get a new array\n",
    "z = np.concatenate([x,y], axis=1)\n",
    "print(\"Concatenated Array is :\",z)"
   ]
  },
  {
   "cell_type": "markdown",
   "metadata": {},
   "source": [
    "# 4. Array Slicing: total 10 points, 2 points each\n",
    "Given an array: \n",
    "array([ 3,  6,  9,  25, 10,  8])\n"
   ]
  },
  {
   "cell_type": "code",
   "execution_count": 55,
   "metadata": {},
   "outputs": [
    {
     "name": "stdout",
     "output_type": "stream",
     "text": [
      "[ 3  6  9 25 10  8]\n"
     ]
    }
   ],
   "source": [
    "arrnew = np.array([ 3,  6,  9,  25, 10,  8])\n",
    "print(arrnew)"
   ]
  },
  {
   "cell_type": "markdown",
   "metadata": {},
   "source": [
    "**1) To get all elements except the first:**"
   ]
  },
  {
   "cell_type": "code",
   "execution_count": 56,
   "metadata": {},
   "outputs": [
    {
     "data": {
      "text/plain": [
       "array([ 6,  9, 25, 10,  8])"
      ]
     },
     "execution_count": 56,
     "metadata": {},
     "output_type": "execute_result"
    }
   ],
   "source": [
    "arrnew[1:]"
   ]
  },
  {
   "cell_type": "markdown",
   "metadata": {},
   "source": [
    "**2) To get all elements except the last:**"
   ]
  },
  {
   "cell_type": "code",
   "execution_count": 57,
   "metadata": {
    "scrolled": true
   },
   "outputs": [
    {
     "data": {
      "text/plain": [
       "array([ 3,  6,  9, 25, 10])"
      ]
     },
     "execution_count": 57,
     "metadata": {},
     "output_type": "execute_result"
    }
   ],
   "source": [
    "arrnew[:5]"
   ]
  },
  {
   "cell_type": "markdown",
   "metadata": {},
   "source": [
    "**3) To get every other element of the array (operation from the first element):**"
   ]
  },
  {
   "cell_type": "code",
   "execution_count": 60,
   "metadata": {},
   "outputs": [
    {
     "data": {
      "text/plain": [
       "array([ 3,  9, 10])"
      ]
     },
     "execution_count": 60,
     "metadata": {},
     "output_type": "execute_result"
    }
   ],
   "source": [
    "arrnew[::2]"
   ]
  },
  {
   "cell_type": "markdown",
   "metadata": {},
   "source": [
    "**4) To get every element of the array (operation from the second element):**"
   ]
  },
  {
   "cell_type": "code",
   "execution_count": 62,
   "metadata": {},
   "outputs": [
    {
     "data": {
      "text/plain": [
       "array([ 6,  9, 25, 10,  8])"
      ]
     },
     "execution_count": 62,
     "metadata": {},
     "output_type": "execute_result"
    }
   ],
   "source": [
    "arrnew[1::]"
   ]
  },
  {
   "cell_type": "markdown",
   "metadata": {},
   "source": [
    "**5) To reverse the array:**"
   ]
  },
  {
   "cell_type": "code",
   "execution_count": 63,
   "metadata": {},
   "outputs": [
    {
     "data": {
      "text/plain": [
       "array([ 8, 10, 25,  9,  6,  3])"
      ]
     },
     "execution_count": 63,
     "metadata": {},
     "output_type": "execute_result"
    }
   ],
   "source": [
    "arrnew[::-1]"
   ]
  },
  {
   "cell_type": "markdown",
   "metadata": {},
   "source": [
    "# 5. Multidimensional Arrays: total 4 points, 1 points each\n"
   ]
  },
  {
   "cell_type": "markdown",
   "metadata": {},
   "source": [
    "**1) create an array with the components as 0-31 and the shape is (8,4)**"
   ]
  },
  {
   "cell_type": "code",
   "execution_count": 53,
   "metadata": {},
   "outputs": [
    {
     "name": "stdout",
     "output_type": "stream",
     "text": [
      "[[ 0  1  2  3]\n",
      " [ 4  5  6  7]\n",
      " [ 8  9 10 11]\n",
      " [12 13 14 15]\n",
      " [16 17 18 19]\n",
      " [20 21 22 23]\n",
      " [24 25 26 27]\n",
      " [28 29 30 31]]\n"
     ]
    }
   ],
   "source": [
    "arrMulti = np.arange(32).reshape(8,4)\n",
    "print(arrMulti)"
   ]
  },
  {
   "cell_type": "markdown",
   "metadata": {},
   "source": [
    "**2) set the 3rd element in the 1st row to 0**"
   ]
  },
  {
   "cell_type": "code",
   "execution_count": 54,
   "metadata": {},
   "outputs": [
    {
     "name": "stdout",
     "output_type": "stream",
     "text": [
      "[[ 0  1  0  3]\n",
      " [ 4  5  6  7]\n",
      " [ 8  9 10 11]\n",
      " [12 13 14 15]\n",
      " [16 17 18 19]\n",
      " [20 21 22 23]\n",
      " [24 25 26 27]\n",
      " [28 29 30 31]]\n"
     ]
    }
   ],
   "source": [
    "arrMulti[0,2]=0\n",
    "print(arrMulti)"
   ]
  },
  {
   "cell_type": "markdown",
   "metadata": {},
   "source": [
    "**3)  the second column**"
   ]
  },
  {
   "cell_type": "code",
   "execution_count": 55,
   "metadata": {},
   "outputs": [
    {
     "name": "stdout",
     "output_type": "stream",
     "text": [
      "[ 1  5  9 13 17 21 25 29]\n"
     ]
    }
   ],
   "source": [
    "print(arrMulti[:,1])"
   ]
  },
  {
   "cell_type": "markdown",
   "metadata": {},
   "source": [
    "**4) select any 3x3 region from the array**"
   ]
  },
  {
   "cell_type": "code",
   "execution_count": 62,
   "metadata": {},
   "outputs": [
    {
     "name": "stdout",
     "output_type": "stream",
     "text": [
      "[[ 9 10 11]\n",
      " [13 14 15]\n",
      " [17 18 19]]\n"
     ]
    }
   ],
   "source": [
    "print(arrMulti[2:5,1:5])"
   ]
  },
  {
   "cell_type": "markdown",
   "metadata": {},
   "source": [
    "# 6. Create a random array with 1000 elements and compute the average, variance, standard deviation of the array elements.   - 7 points\n",
    "\n",
    "And print the formatted outputs which keep 5 digits after the decimal point.\n"
   ]
  },
  {
   "cell_type": "code",
   "execution_count": 35,
   "metadata": {},
   "outputs": [
    {
     "name": "stdout",
     "output_type": "stream",
     "text": [
      "Original Array:  [7.5909e-01 4.0399e-01 2.8157e-01 1.8004e-01 8.5407e-01 2.8153e-01\n",
      " 8.9685e-01 1.0819e-01 7.4045e-01 9.8807e-01 1.5675e-01 1.6710e-01\n",
      " 4.3597e-01 7.0558e-01 2.5227e-01 8.6170e-02 2.1307e-01 2.4935e-01\n",
      " 8.7252e-01 2.4394e-01 6.5586e-01 5.6706e-01 4.7310e-02 5.0110e-02\n",
      " 2.2305e-01 3.4970e-01 1.1516e-01 7.2387e-01 4.8200e-01 3.0088e-01\n",
      " 5.9532e-01 9.3884e-01 3.5121e-01 3.0197e-01 5.6430e-01 1.1936e-01\n",
      " 9.0888e-01 5.4564e-01 8.0246e-01 2.8017e-01 2.4793e-01 6.6114e-01\n",
      " 2.9043e-01 9.7579e-01 6.6783e-01 9.8317e-01 1.5662e-01 9.5431e-01\n",
      " 6.4024e-01 5.4796e-01 6.0793e-01 2.0108e-01 1.9831e-01 7.0813e-01\n",
      " 8.8057e-01 6.6153e-01 3.7080e-02 2.8098e-01 3.9686e-01 9.1758e-01\n",
      " 9.3380e-02 8.3580e-02 3.3860e-02 3.3398e-01 5.6788e-01 8.4719e-01\n",
      " 8.0797e-01 7.7297e-01 5.1320e-01 3.0500e-02 4.8341e-01 4.5644e-01\n",
      " 6.6349e-01 3.0330e-01 3.8220e-01 6.6400e-01 2.5111e-01 4.7939e-01\n",
      " 9.7174e-01 7.9969e-01 2.1635e-01 1.5469e-01 3.1656e-01 3.5870e-02\n",
      " 1.8700e-01 6.6242e-01 1.2037e-01 1.2842e-01 9.2342e-01 6.0144e-01\n",
      " 5.7422e-01 4.3101e-01 1.0126e-01 8.1552e-01 3.8668e-01 3.0151e-01\n",
      " 2.3044e-01 5.1479e-01 5.4327e-01 5.3726e-01 1.9738e-01 9.7175e-01\n",
      " 3.2158e-01 5.8410e-02 9.4630e-02 8.5260e-01 9.4118e-01 7.0081e-01\n",
      " 9.9904e-01 7.7940e-02 4.6655e-01 7.9580e-01 2.0215e-01 2.1139e-01\n",
      " 5.9228e-01 4.1047e-01 3.0016e-01 8.3810e-01 6.5287e-01 3.6000e-01\n",
      " 4.9531e-01 1.6518e-01 4.2973e-01 1.2978e-01 2.2678e-01 1.7539e-01\n",
      " 3.2200e-03 4.6660e-02 3.7335e-01 5.8286e-01 7.0484e-01 3.4752e-01\n",
      " 4.0850e-01 8.8850e-01 5.6764e-01 9.2065e-01 7.0498e-01 3.0511e-01\n",
      " 4.2336e-01 8.7593e-01 3.8547e-01 6.7088e-01 3.1875e-01 9.6382e-01\n",
      " 7.4248e-01 9.6059e-01 1.6149e-01 2.4693e-01 5.7527e-01 1.1404e-01\n",
      " 3.0512e-01 7.8355e-01 6.3540e-01 9.4549e-01 4.5685e-01 7.8063e-01\n",
      " 3.7235e-01 5.2276e-01 3.3781e-01 8.6255e-01 5.4688e-01 5.7428e-01\n",
      " 4.1160e-02 2.7342e-01 1.3239e-01 6.3562e-01 8.8793e-01 6.0764e-01\n",
      " 5.8379e-01 7.5600e-01 9.7820e-01 7.8727e-01 8.8863e-01 4.6120e-02\n",
      " 5.7846e-01 5.1935e-01 9.9807e-01 5.0863e-01 7.2067e-01 9.4080e-02\n",
      " 9.3196e-01 4.3710e-02 1.5656e-01 8.8500e-01 6.3130e-02 3.5486e-01\n",
      " 4.1545e-01 8.5591e-01 6.7245e-01 9.4223e-01 6.7792e-01 5.8534e-01\n",
      " 9.2947e-01 4.7247e-01 4.5286e-01 3.3813e-01 5.1921e-01 3.2974e-01\n",
      " 6.4816e-01 5.1621e-01 5.3816e-01 4.6580e-02 7.7170e-01 4.1471e-01\n",
      " 4.8678e-01 2.1954e-01 1.3232e-01 9.0655e-01 9.6440e-02 9.3982e-01\n",
      " 8.6855e-01 9.4650e-01 8.3746e-01 3.2986e-01 9.8550e-02 7.1370e-01\n",
      " 1.8699e-01 9.8756e-01 8.2684e-01 8.2381e-01 8.4553e-01 6.3932e-01\n",
      " 6.3758e-01 3.6168e-01 2.6388e-01 8.0168e-01 1.0530e-02 8.3314e-01\n",
      " 9.2734e-01 1.7109e-01 4.6130e-01 9.0627e-01 4.2014e-01 9.4063e-01\n",
      " 9.6591e-01 3.0364e-01 3.0853e-01 9.2069e-01 2.4254e-01 2.6752e-01\n",
      " 7.9112e-01 9.7104e-01 1.9271e-01 4.4360e-02 5.2432e-01 8.4834e-01\n",
      " 2.3549e-01 1.0198e-01 3.7980e-01 3.2755e-01 8.8216e-01 7.6200e-03\n",
      " 3.1773e-01 7.9024e-01 1.3873e-01 2.0262e-01 3.2973e-01 3.5554e-01\n",
      " 9.0931e-01 6.7714e-01 3.2501e-01 3.6424e-01 4.2141e-01 7.5555e-01\n",
      " 5.1673e-01 4.0460e-02 9.3317e-01 2.8770e-02 8.1140e-01 1.5943e-01\n",
      " 5.2904e-01 2.7927e-01 6.7746e-01 3.9325e-01 1.3342e-01 5.1048e-01\n",
      " 4.6944e-01 1.8900e-02 7.0370e-01 2.2570e-02 8.8536e-01 9.7356e-01\n",
      " 6.4259e-01 6.1264e-01 4.1436e-01 7.6750e-02 7.2590e-01 9.5774e-01\n",
      " 2.7956e-01 5.8400e-03 2.1649e-01 6.3858e-01 3.4437e-01 6.4941e-01\n",
      " 4.7504e-01 5.4494e-01 2.6933e-01 1.7576e-01 2.2223e-01 8.7197e-01\n",
      " 4.7437e-01 4.6433e-01 8.5766e-01 5.1613e-01 2.9146e-01 4.5336e-01\n",
      " 5.7660e-01 4.3633e-01 2.6565e-01 4.6991e-01 5.5856e-01 8.8576e-01\n",
      " 4.6114e-01 7.4312e-01 4.8767e-01 8.6110e-02 9.8353e-01 5.1530e-01\n",
      " 6.0822e-01 3.6775e-01 8.6490e-02 6.8470e-02 5.6569e-01 3.0790e-02\n",
      " 7.9785e-01 1.6495e-01 4.5991e-01 3.2570e-02 8.9682e-01 9.3255e-01\n",
      " 6.4196e-01 9.5339e-01 6.5000e-01 4.4910e-01 1.6543e-01 5.9155e-01\n",
      " 7.6540e-02 9.2660e-01 8.4985e-01 1.7983e-01 3.2292e-01 6.6023e-01\n",
      " 9.0848e-01 5.7027e-01 3.7710e-01 9.9310e-02 5.3902e-01 5.8862e-01\n",
      " 8.7180e-02 7.7249e-01 1.8145e-01 5.7978e-01 9.3451e-01 5.3910e-01\n",
      " 8.3688e-01 4.6338e-01 5.0634e-01 2.8276e-01 5.7708e-01 4.0693e-01\n",
      " 6.1035e-01 6.9868e-01 7.7463e-01 3.9564e-01 7.7915e-01 2.0007e-01\n",
      " 9.7708e-01 8.2770e-01 3.2060e-02 3.2740e-01 1.7544e-01 1.5930e-01\n",
      " 3.2024e-01 4.4660e-01 3.4949e-01 4.6230e-01 4.6391e-01 8.8498e-01\n",
      " 4.8743e-01 1.7312e-01 5.2671e-01 9.2306e-01 7.9790e-01 6.9118e-01\n",
      " 9.9202e-01 1.4021e-01 4.4350e-01 9.5525e-01 2.5816e-01 4.8639e-01\n",
      " 5.0166e-01 5.1604e-01 4.1432e-01 8.4688e-01 5.3420e-01 9.8552e-01\n",
      " 1.5913e-01 4.1834e-01 9.8783e-01 9.5965e-01 4.5185e-01 2.9211e-01\n",
      " 1.4499e-01 8.0627e-01 4.0264e-01 5.6908e-01 5.2547e-01 1.0110e-02\n",
      " 7.7677e-01 9.1875e-01 7.3620e-01 2.0990e-02 8.0417e-01 3.0826e-01\n",
      " 8.5730e-02 9.7969e-01 6.8606e-01 8.6596e-01 9.4863e-01 7.7586e-01\n",
      " 3.2584e-01 2.8201e-01 3.5019e-01 7.1259e-01 6.4892e-01 9.9022e-01\n",
      " 8.3838e-01 8.0090e-02 1.6411e-01 6.5280e-02 2.6420e-02 1.0604e-01\n",
      " 4.7263e-01 3.0151e-01 4.7513e-01 5.6304e-01 5.8131e-01 8.1398e-01\n",
      " 8.5957e-01 7.2615e-01 6.9538e-01 1.0976e-01 9.7200e-02 4.4945e-01\n",
      " 8.7154e-01 8.5436e-01 7.6560e-02 4.8350e-01 4.0533e-01 4.5709e-01\n",
      " 7.4855e-01 1.5980e-02 1.9414e-01 1.8478e-01 4.2985e-01 2.0680e-02\n",
      " 2.4015e-01 2.1097e-01 1.8915e-01 2.0552e-01 3.8784e-01 1.4949e-01\n",
      " 9.2627e-01 8.6117e-01 1.6963e-01 1.3709e-01 3.2100e-02 8.1752e-01\n",
      " 3.6071e-01 1.6082e-01 9.6780e-02 9.7584e-01 5.8452e-01 3.6998e-01\n",
      " 5.0462e-01 9.3370e-01 5.3193e-01 4.9719e-01 7.3669e-01 4.3226e-01\n",
      " 2.0645e-01 3.0772e-01 8.9867e-01 3.7690e-01 8.2024e-01 3.8105e-01\n",
      " 2.0405e-01 8.1757e-01 8.4721e-01 5.7730e-02 2.0798e-01 2.1121e-01\n",
      " 6.9084e-01 1.9122e-01 4.4575e-01 2.5237e-01 3.2977e-01 7.3806e-01\n",
      " 5.4017e-01 2.9886e-01 5.4702e-01 9.0020e-02 8.9539e-01 4.8762e-01\n",
      " 4.6684e-01 3.9413e-01 2.6856e-01 2.9346e-01 9.8930e-01 7.1811e-01\n",
      " 2.5306e-01 1.4322e-01 6.3506e-01 7.5864e-01 2.0818e-01 3.7331e-01\n",
      " 4.7934e-01 3.8980e-01 5.2398e-01 6.8900e-02 4.3368e-01 2.5350e-02\n",
      " 5.3070e-01 5.9302e-01 7.5229e-01 5.2415e-01 4.4670e-01 2.9560e-01\n",
      " 7.3319e-01 3.1527e-01 1.5040e-02 3.6026e-01 3.1326e-01 3.9530e-01\n",
      " 7.2700e-03 4.5585e-01 9.2685e-01 8.5915e-01 4.5441e-01 3.4846e-01\n",
      " 6.7810e-01 2.4950e-01 1.5793e-01 3.5972e-01 1.5933e-01 5.8039e-01\n",
      " 5.2470e-02 2.9080e-02 9.3388e-01 8.2920e-01 4.8327e-01 8.5606e-01\n",
      " 2.3411e-01 7.4768e-01 4.3213e-01 7.8356e-01 6.3220e-01 4.8433e-01\n",
      " 3.6035e-01 1.3815e-01 5.5971e-01 9.0451e-01 5.8929e-01 6.7944e-01\n",
      " 3.0013e-01 5.3470e-01 2.1952e-01 4.8527e-01 6.3122e-01 6.6161e-01\n",
      " 4.9810e-02 5.1490e-02 6.6030e-01 9.8930e-02 4.6101e-01 4.2673e-01\n",
      " 9.2345e-01 1.6505e-01 8.3019e-01 2.1185e-01 2.2368e-01 7.8305e-01\n",
      " 7.4340e-01 2.3080e-02 6.8484e-01 7.9760e-01 3.6535e-01 5.5653e-01\n",
      " 1.7174e-01 8.4795e-01 6.1350e-02 9.7711e-01 9.2490e-02 9.2482e-01\n",
      " 5.3557e-01 2.1790e-01 7.1097e-01 3.6867e-01 6.2536e-01 4.9166e-01\n",
      " 2.4147e-01 9.9566e-01 4.9570e-01 5.9827e-01 9.9277e-01 3.7634e-01\n",
      " 8.0332e-01 4.9275e-01 4.0724e-01 8.5807e-01 6.6928e-01 2.9150e-01\n",
      " 5.7000e-01 8.8051e-01 5.3133e-01 5.0140e-02 7.1099e-01 9.6886e-01\n",
      " 1.7264e-01 2.9195e-01 3.6794e-01 7.1386e-01 4.2390e-01 2.4054e-01\n",
      " 9.9819e-01 9.9584e-01 9.1966e-01 5.3987e-01 6.6466e-01 9.3730e-01\n",
      " 1.6860e-02 5.0561e-01 8.6239e-01 6.1194e-01 1.6050e-01 6.6683e-01\n",
      " 4.6184e-01 9.9204e-01 5.4598e-01 4.4708e-01 2.9589e-01 5.7508e-01\n",
      " 9.6390e-01 8.9264e-01 1.7151e-01 7.5971e-01 3.5891e-01 5.8182e-01\n",
      " 7.0124e-01 8.8464e-01 9.1222e-01 8.6324e-01 3.1040e-01 8.8150e-02\n",
      " 4.2744e-01 1.0131e-01 5.4399e-01 2.2340e-01 5.6978e-01 5.3474e-01\n",
      " 8.3085e-01 1.6376e-01 1.8196e-01 6.4669e-01 5.2292e-01 4.0688e-01\n",
      " 6.8550e-01 7.5856e-01 7.8286e-01 6.5140e-02 2.5617e-01 7.8324e-01\n",
      " 3.7006e-01 8.7888e-01 9.0758e-01 8.4380e-02 6.6757e-01 6.3484e-01\n",
      " 1.2489e-01 3.6723e-01 2.3510e-01 7.9335e-01 5.1258e-01 1.8539e-01\n",
      " 8.1838e-01 5.5950e-02 7.8423e-01 4.6208e-01 7.3330e-01 4.7123e-01\n",
      " 7.9681e-01 9.1260e-01 9.8156e-01 4.1716e-01 2.7369e-01 5.5978e-01\n",
      " 5.3628e-01 2.1291e-01 3.5212e-01 2.3716e-01 3.8457e-01 6.4969e-01\n",
      " 6.0744e-01 3.2181e-01 5.2507e-01 2.7208e-01 8.9625e-01 7.3121e-01\n",
      " 1.4999e-01 8.9858e-01 1.6238e-01 8.8887e-01 2.7851e-01 3.8465e-01\n",
      " 8.5080e-01 9.4022e-01 3.2226e-01 1.7867e-01 1.6322e-01 7.3600e-03\n",
      " 5.6917e-01 5.1068e-01 1.1931e-01 6.9947e-01 2.4236e-01 5.2830e-01\n",
      " 2.8290e-02 7.1577e-01 3.5151e-01 5.5306e-01 6.5985e-01 3.8902e-01\n",
      " 9.2848e-01 2.0783e-01 2.4717e-01 3.3853e-01 2.8747e-01 7.2115e-01\n",
      " 8.5662e-01 3.9837e-01 8.2368e-01 9.4422e-01 3.7099e-01 1.8795e-01\n",
      " 1.0952e-01 8.1373e-01 4.8550e-01 8.8347e-01 8.4848e-01 7.2623e-01\n",
      " 1.0217e-01 7.5811e-01 7.7756e-01 8.4948e-01 1.8777e-01 4.7918e-01\n",
      " 9.7929e-01 4.4411e-01 9.4626e-01 2.9670e-01 5.0288e-01 9.0155e-01\n",
      " 5.9341e-01 5.6514e-01 5.6925e-01 7.6608e-01 7.9507e-01 2.2962e-01\n",
      " 2.4224e-01 1.8640e-01 2.9406e-01 2.4379e-01 3.9549e-01 7.8468e-01\n",
      " 3.1059e-01 8.3086e-01 5.6632e-01 6.6558e-01 6.7840e-02 8.4830e-01\n",
      " 2.8011e-01 9.7603e-01 9.1050e-02 7.0981e-01 8.7640e-02 2.9660e-02\n",
      " 5.9385e-01 7.9190e-02 1.7401e-01 2.5153e-01 8.1768e-01 7.7689e-01\n",
      " 3.5220e-02 8.4586e-01 7.5152e-01 6.7474e-01 3.5684e-01 4.9527e-01\n",
      " 9.7467e-01 4.4115e-01 9.7209e-01 5.6347e-01 4.2470e-01 1.9937e-01\n",
      " 9.1276e-01 4.4579e-01 3.4151e-01 4.2051e-01 5.1870e-01 6.4474e-01\n",
      " 6.1990e-02 7.4284e-01 1.7810e-02 4.9897e-01 3.1418e-01 5.8964e-01\n",
      " 4.1730e-02 5.3338e-01 7.6891e-01 5.8763e-01 3.1392e-01 1.0904e-01\n",
      " 5.8860e-01 9.4991e-01 1.1792e-01 9.7240e-02 7.7630e-02 6.2586e-01\n",
      " 9.0722e-01 3.0410e-02 5.8077e-01 5.8676e-01 5.4427e-01 5.0758e-01\n",
      " 2.6368e-01 7.4776e-01 8.3681e-01 2.1783e-01 5.5346e-01 6.8841e-01\n",
      " 3.2659e-01 2.9220e-01 9.8567e-01 8.6034e-01 1.5865e-01 7.8679e-01\n",
      " 8.6900e-01 5.9035e-01 9.4757e-01 1.8085e-01 4.8967e-01 1.1168e-01\n",
      " 6.1279e-01 7.6278e-01 2.1579e-01 3.3803e-01 4.4525e-01 9.1307e-01\n",
      " 8.4618e-01 4.0523e-01 9.1695e-01 3.9390e-01 9.2340e-02 9.8705e-01\n",
      " 1.2610e-02 3.2193e-01 9.1848e-01 5.7829e-01 1.1348e-01 5.7712e-01\n",
      " 7.0725e-01 5.1087e-01 8.4320e-01 2.2997e-01 3.2178e-01 5.0986e-01\n",
      " 8.0291e-01 8.8878e-01 8.7725e-01 9.7308e-01 5.8576e-01 7.9437e-01\n",
      " 5.9419e-01 5.3907e-01 9.9491e-01 4.8900e-03 2.0744e-01 2.5186e-01\n",
      " 9.2340e-01 3.2660e-01 6.9204e-01 9.9229e-01 3.3140e-02 2.3672e-01\n",
      " 3.2517e-01 8.6648e-01 6.9470e-01 8.8590e-02 5.6725e-01 9.5694e-01\n",
      " 4.2153e-01 9.4177e-01 1.6220e-01 5.4046e-01 8.6870e-01 2.6640e-01\n",
      " 2.4232e-01 3.1893e-01 3.1710e-02 2.0657e-01 8.7026e-01 1.4553e-01\n",
      " 6.7822e-01 6.9500e-02 8.9047e-01 3.6903e-01 1.5810e-02 9.8999e-01\n",
      " 8.2205e-01 4.5846e-01 9.9013e-01 8.5573e-01 9.7322e-01 3.8286e-01\n",
      " 9.5107e-01 6.2973e-01 8.1414e-01 7.8021e-01 8.4045e-01 8.9595e-01\n",
      " 4.7960e-02 9.5423e-01 2.7427e-01 8.3230e-01 1.5060e-02 3.0715e-01\n",
      " 2.8189e-01 3.4914e-01 7.5118e-01 7.3120e-02 7.3261e-01 6.4745e-01\n",
      " 8.3917e-01 4.7435e-01 8.3310e-01 7.2777e-01 1.6341e-01 7.0140e-02\n",
      " 4.3211e-01 8.0707e-01 5.5785e-01 3.6230e-01 8.6020e-02 2.3042e-01\n",
      " 9.9053e-01 5.8007e-01 9.2106e-01 1.1215e-01 2.2721e-01 6.6383e-01\n",
      " 8.5773e-01 2.8419e-01 5.5821e-01 5.0760e-02 9.1375e-01 6.5769e-01\n",
      " 9.6370e-01 4.6007e-01 9.6462e-01 2.8370e-02 7.9309e-01 8.8892e-01\n",
      " 7.3012e-01 6.3735e-01 5.1000e-04 7.2707e-01 8.2470e-01 6.1100e-03\n",
      " 4.3203e-01 5.2218e-01 2.5013e-01 7.1230e-01 5.2935e-01 1.9534e-01\n",
      " 8.6611e-01 2.6408e-01 6.5881e-01 2.1037e-01 7.4095e-01 4.4025e-01\n",
      " 6.5048e-01 1.8655e-01 9.8741e-01 3.9992e-01 8.4557e-01 3.0346e-01\n",
      " 9.2601e-01 1.7445e-01 3.3180e-02 2.0136e-01]\n"
     ]
    }
   ],
   "source": [
    "import numpy as np\n",
    "arrY = np.random.random(1000).round(5)\n",
    "print(\"Original Array: \",arrY)"
   ]
  },
  {
   "cell_type": "code",
   "execution_count": 36,
   "metadata": {},
   "outputs": [
    {
     "name": "stdout",
     "output_type": "stream",
     "text": [
      "Average: 0.50286\n"
     ]
    }
   ],
   "source": [
    "avgr = arrY.mean()\n",
    "print(\"Average: %0.5f\" % avgr)"
   ]
  },
  {
   "cell_type": "code",
   "execution_count": 37,
   "metadata": {},
   "outputs": [
    {
     "name": "stdout",
     "output_type": "stream",
     "text": [
      "Standard deviation: 0.29190\n"
     ]
    }
   ],
   "source": [
    "std = arrY.std()\n",
    "print(\"Standard deviation: %0.5f\" % std)"
   ]
  },
  {
   "cell_type": "code",
   "execution_count": 38,
   "metadata": {},
   "outputs": [
    {
     "name": "stdout",
     "output_type": "stream",
     "text": [
      "Variance:0.08521\n"
     ]
    }
   ],
   "source": [
    "var = arrY.var()\n",
    "print(\"Variance:%0.5f\" % var)"
   ]
  },
  {
   "cell_type": "markdown",
   "metadata": {},
   "source": [
    "# 7. Broadcasting: 10 points\n",
    "\n",
    "1) Please add the following two arrays according to the 3 rules. You can reshape the array by np.reshape or 'newaxis'. (each for 5 points)"
   ]
  },
  {
   "cell_type": "markdown",
   "metadata": {},
   "source": [
    "**1) \n",
    "a = np.array([0.0, 10.0, 20.0, 30.0])\n",
    "b = np.array([1.0, 2.0, 3.0])**\n"
   ]
  },
  {
   "cell_type": "code",
   "execution_count": 68,
   "metadata": {},
   "outputs": [],
   "source": [
    "import numpy as np \n",
    "a = np.array([0.0, 10.0, 20.0, 30.0])\n",
    "b = np.array([1.0, 2.0, 3.0])"
   ]
  },
  {
   "cell_type": "code",
   "execution_count": 69,
   "metadata": {},
   "outputs": [
    {
     "data": {
      "text/plain": [
       "array([[1.],\n",
       "       [2.],\n",
       "       [3.]])"
      ]
     },
     "execution_count": 69,
     "metadata": {},
     "output_type": "execute_result"
    }
   ],
   "source": [
    "b[:,np.newaxis].shape\n",
    "b[:,np.newaxis]"
   ]
  },
  {
   "cell_type": "code",
   "execution_count": 72,
   "metadata": {},
   "outputs": [
    {
     "data": {
      "text/plain": [
       "array([[ 1., 11., 21., 31.],\n",
       "       [ 2., 12., 22., 32.],\n",
       "       [ 3., 13., 23., 33.]])"
      ]
     },
     "execution_count": 72,
     "metadata": {},
     "output_type": "execute_result"
    }
   ],
   "source": [
    "add =a+b[:,np.newaxis]\n",
    "add"
   ]
  },
  {
   "cell_type": "markdown",
   "metadata": {},
   "source": [
    "**2) \n",
    "x = np.arange(4)\n",
    "y = np.ones(5)**\n"
   ]
  },
  {
   "cell_type": "code",
   "execution_count": 76,
   "metadata": {},
   "outputs": [],
   "source": [
    "x = np.arange(4)\n",
    "y = np.ones(5)"
   ]
  },
  {
   "cell_type": "code",
   "execution_count": 77,
   "metadata": {},
   "outputs": [
    {
     "data": {
      "text/plain": [
       "array([0, 1, 2, 3])"
      ]
     },
     "execution_count": 77,
     "metadata": {},
     "output_type": "execute_result"
    }
   ],
   "source": [
    "x"
   ]
  },
  {
   "cell_type": "code",
   "execution_count": 78,
   "metadata": {},
   "outputs": [
    {
     "data": {
      "text/plain": [
       "array([1., 1., 1., 1., 1.])"
      ]
     },
     "execution_count": 78,
     "metadata": {},
     "output_type": "execute_result"
    }
   ],
   "source": [
    "y"
   ]
  },
  {
   "cell_type": "code",
   "execution_count": 79,
   "metadata": {},
   "outputs": [
    {
     "data": {
      "text/plain": [
       "array([[1.],\n",
       "       [1.],\n",
       "       [1.],\n",
       "       [1.],\n",
       "       [1.]])"
      ]
     },
     "execution_count": 79,
     "metadata": {},
     "output_type": "execute_result"
    }
   ],
   "source": [
    "y[:,np.newaxis]"
   ]
  },
  {
   "cell_type": "code",
   "execution_count": 80,
   "metadata": {},
   "outputs": [
    {
     "data": {
      "text/plain": [
       "array([[1., 2., 3., 4.],\n",
       "       [1., 2., 3., 4.],\n",
       "       [1., 2., 3., 4.],\n",
       "       [1., 2., 3., 4.],\n",
       "       [1., 2., 3., 4.]])"
      ]
     },
     "execution_count": 80,
     "metadata": {},
     "output_type": "execute_result"
    }
   ],
   "source": [
    "x+y[:,np.newaxis]"
   ]
  },
  {
   "cell_type": "markdown",
   "metadata": {},
   "source": [
    "# 8. Write a 6x6 times table matrix:  total 10 points \n",
    "    - by using numpy broadcasting (5 points) \n",
    "    - by using Python nested for-loop (5 points).\n",
    "    "
   ]
  },
  {
   "cell_type": "markdown",
   "metadata": {},
   "source": [
    "Numpy Broadcasting"
   ]
  },
  {
   "cell_type": "code",
   "execution_count": 84,
   "metadata": {},
   "outputs": [
    {
     "data": {
      "text/plain": [
       "array([1, 2, 3, 4, 5, 6])"
      ]
     },
     "execution_count": 84,
     "metadata": {},
     "output_type": "execute_result"
    }
   ],
   "source": [
    "table = np.arange(1,7)\n",
    "table"
   ]
  },
  {
   "cell_type": "code",
   "execution_count": 85,
   "metadata": {},
   "outputs": [
    {
     "data": {
      "text/plain": [
       "array([[1],\n",
       "       [2],\n",
       "       [3],\n",
       "       [4],\n",
       "       [5],\n",
       "       [6]])"
      ]
     },
     "execution_count": 85,
     "metadata": {},
     "output_type": "execute_result"
    }
   ],
   "source": [
    "table2 = table[:,np.newaxis]\n",
    "table2"
   ]
  },
  {
   "cell_type": "code",
   "execution_count": 88,
   "metadata": {},
   "outputs": [
    {
     "data": {
      "text/plain": [
       "array([[ 1,  2,  3,  4,  5,  6],\n",
       "       [ 2,  4,  6,  8, 10, 12],\n",
       "       [ 3,  6,  9, 12, 15, 18],\n",
       "       [ 4,  8, 12, 16, 20, 24],\n",
       "       [ 5, 10, 15, 20, 25, 30],\n",
       "       [ 6, 12, 18, 24, 30, 36]])"
      ]
     },
     "execution_count": 88,
     "metadata": {},
     "output_type": "execute_result"
    }
   ],
   "source": [
    "broadcast = table * table2\n",
    "broadcast"
   ]
  },
  {
   "cell_type": "markdown",
   "metadata": {},
   "source": [
    "Python nested for-loop"
   ]
  },
  {
   "cell_type": "code",
   "execution_count": 89,
   "metadata": {},
   "outputs": [
    {
     "data": {
      "text/plain": [
       "array([1, 2, 3, 4, 5, 6])"
      ]
     },
     "execution_count": 89,
     "metadata": {},
     "output_type": "execute_result"
    }
   ],
   "source": [
    "table"
   ]
  },
  {
   "cell_type": "code",
   "execution_count": 91,
   "metadata": {},
   "outputs": [
    {
     "data": {
      "text/plain": [
       "6"
      ]
     },
     "execution_count": 91,
     "metadata": {},
     "output_type": "execute_result"
    }
   ],
   "source": [
    "leng = len(table)\n",
    "leng"
   ]
  },
  {
   "cell_type": "code",
   "execution_count": 92,
   "metadata": {},
   "outputs": [],
   "source": [
    "val = np.empty((leng,leng),dtype = int, order = 'C')"
   ]
  },
  {
   "cell_type": "code",
   "execution_count": 94,
   "metadata": {},
   "outputs": [
    {
     "name": "stdout",
     "output_type": "stream",
     "text": [
      "[[ 1  2  3  4  5  6]\n",
      " [ 2  4  6  8 10 12]\n",
      " [ 3  6  9 12 15 18]\n",
      " [ 4  8 12 16 20 24]\n",
      " [ 5 10 15 20 25 30]\n",
      " [ 6 12 18 24 30 36]]\n"
     ]
    }
   ],
   "source": [
    "for i, m in enumerate(table):\n",
    "    for j, n in enumerate(table):\n",
    "        val[i,j] = m*n\n",
    "print(val)"
   ]
  }
 ],
 "metadata": {
  "kernelspec": {
   "display_name": "Python 3",
   "language": "python",
   "name": "python3"
  },
  "language_info": {
   "codemirror_mode": {
    "name": "ipython",
    "version": 3
   },
   "file_extension": ".py",
   "mimetype": "text/x-python",
   "name": "python",
   "nbconvert_exporter": "python",
   "pygments_lexer": "ipython3",
   "version": "3.7.4"
  }
 },
 "nbformat": 4,
 "nbformat_minor": 2
}
