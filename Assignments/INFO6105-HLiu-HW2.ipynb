{
 "cells": [
  {
   "cell_type": "markdown",
   "metadata": {},
   "source": [
    "# 2020-02-07: Homework 2: total 100 points for Pandas and Matplotlib\n",
    "Submission due date by the end of Feburay 16th, 2020.\n",
    "Total 100 points.\n"
   ]
  },
  {
   "cell_type": "markdown",
   "metadata": {},
   "source": [
    "# Pandas Homework: 9 questions, total 50 points."
   ]
  },
  {
   "cell_type": "markdown",
   "metadata": {},
   "source": [
    " **1. Given data = [1,2,3,4,5,6,7,8,9,5,3], create a Pandas Series, then calculate the mean and standard deviation of the Series and print the outputs to 4 decimal places in floating point format.\n",
    " (3 points)**"
   ]
  },
  {
   "cell_type": "code",
   "execution_count": 2,
   "metadata": {},
   "outputs": [],
   "source": [
    "import pandas as pd\n",
    "import numpy as np"
   ]
  },
  {
   "cell_type": "code",
   "execution_count": 3,
   "metadata": {},
   "outputs": [
    {
     "name": "stdout",
     "output_type": "stream",
     "text": [
      "0     1\n",
      "1     2\n",
      "2     3\n",
      "3     4\n",
      "4     5\n",
      "5     6\n",
      "6     7\n",
      "7     8\n",
      "8     9\n",
      "9     5\n",
      "10    3\n",
      "dtype: int64\n"
     ]
    }
   ],
   "source": [
    "pdseries = pd.Series([1,2,3,4,5,6,7,8,9,5,3])\n",
    "print(pdseries)"
   ]
  },
  {
   "cell_type": "code",
   "execution_count": 4,
   "metadata": {},
   "outputs": [
    {
     "name": "stdout",
     "output_type": "stream",
     "text": [
      "Mean: 4.8182\n",
      "Standard Deviation: 2.5226\n"
     ]
    }
   ],
   "source": [
    "#calculate the mean and standard deviation of the Series\n",
    "print(\"Mean: %0.4f\" % pdseries.mean())\n",
    "print(\"Standard Deviation: %0.4f\" % pdseries.std())\n"
   ]
  },
  {
   "cell_type": "markdown",
   "metadata": {},
   "source": [
    "**2. Create two Pandas Series: [2, 4, 6, 8, 10], [1, 3, 5, 7, 9]. Compare the elements of the two Pandas Series. Expected outputs are to print two series comparing with \"equal\", \"greater than\", and \"less than\". (4 points)**"
   ]
  },
  {
   "cell_type": "code",
   "execution_count": 5,
   "metadata": {},
   "outputs": [
    {
     "name": "stdout",
     "output_type": "stream",
     "text": [
      "Panda Series 1:\n",
      "0     2\n",
      "1     4\n",
      "2     6\n",
      "3     8\n",
      "4    10\n",
      "dtype: int64\n",
      "Panda Series 2:\n",
      "0    1\n",
      "1    3\n",
      "2    5\n",
      "3    7\n",
      "4    9\n",
      "dtype: int64\n"
     ]
    }
   ],
   "source": [
    "pds1 = pd.Series([2, 4, 6, 8, 10])\n",
    "pds2 = pd.Series([1, 3, 5, 7, 9])\n",
    "print(\"Panda Series 1:\")\n",
    "print(pds1)\n",
    "print(\"Panda Series 2:\")\n",
    "print(pds2)"
   ]
  },
  {
   "cell_type": "code",
   "execution_count": 6,
   "metadata": {},
   "outputs": [
    {
     "name": "stdout",
     "output_type": "stream",
     "text": [
      "Compare the elements of the said Series:\n",
      "Equals:\n",
      "0    False\n",
      "1    False\n",
      "2    False\n",
      "3    False\n",
      "4    False\n",
      "dtype: bool\n",
      "Greater than:\n",
      "0    True\n",
      "1    True\n",
      "2    True\n",
      "3    True\n",
      "4    True\n",
      "dtype: bool\n",
      "Less than:\n",
      "0    False\n",
      "1    False\n",
      "2    False\n",
      "3    False\n",
      "4    False\n",
      "dtype: bool\n"
     ]
    }
   ],
   "source": [
    "#Compare the elements of the two Pandas Series\n",
    "print(\"Compare the elements of the said Series:\")\n",
    "print(\"Equals:\")\n",
    "print(pds1 == pds2)\n",
    "print(\"Greater than:\")\n",
    "print(pds1 > pds2)\n",
    "print(\"Less than:\")\n",
    "print(pds1 < pds2)\n"
   ]
  },
  {
   "cell_type": "markdown",
   "metadata": {},
   "source": [
    "**3. NumPy array: d1 = [10, 20, 30, 40, 50];  dictionary: d2 = {'a': 100, 'b': 200, 'c':300, 'd':400, 'e':800}    \n",
    "Convert the NumPy array and the dictionary to Pandas Series, respectively. (2 points)**"
   ]
  },
  {
   "cell_type": "code",
   "execution_count": 9,
   "metadata": {},
   "outputs": [
    {
     "name": "stdout",
     "output_type": "stream",
     "text": [
      "Numpy Array:\n",
      "[10 20 30 40 50]\n",
      "Convert to pd series:-\n",
      "0    10\n",
      "1    20\n",
      "2    30\n",
      "3    40\n",
      "4    50\n",
      "dtype: int32\n",
      "Dictionary:\n",
      "{'a': 100, 'b': 200, 'c': 300, 'd': 400, 'e': 800}\n",
      "Convert to pd series:-\n",
      "a    100\n",
      "b    200\n",
      "c    300\n",
      "d    400\n",
      "e    800\n",
      "dtype: int64\n"
     ]
    }
   ],
   "source": [
    "d1 = np.array([10, 20, 30, 40, 50])\n",
    "print(\"Numpy Array:\")\n",
    "print(d1)\n",
    "print(\"Convert to pd series:-\")\n",
    "print(pd.Series(d1))\n",
    "\n",
    "\n",
    "d2 = {'a': 100, 'b': 200, 'c':300, 'd':400, 'e':800} \n",
    "print(\"Dictionary:\")\n",
    "print(d2)\n",
    "print(\"Convert to pd series:-\")\n",
    "print(pd.Series(d2))\n",
    "\n"
   ]
  },
  {
   "cell_type": "markdown",
   "metadata": {},
   "source": [
    "**4. Contruct a DataFrame as the sameple data here and output. Use \"iloc\" to convert the first column of a DataFrame as a Series. (4 points)\n",
    "Sample data:\n",
    "    col1  col2  col3\n",
    "0     1     4     7\n",
    "1     2     5     5\n",
    "2     3     6     8\n",
    "3     4     9    12\n",
    "4     7     5     1\n",
    "5    11     0    11**"
   ]
  },
  {
   "cell_type": "code",
   "execution_count": 21,
   "metadata": {},
   "outputs": [
    {
     "name": "stdout",
     "output_type": "stream",
     "text": [
      "   col1  col2  col3\n",
      "0     1     4     7\n",
      "1     2     5     5\n",
      "2     3     6     8\n",
      "3     4     9    12\n",
      "4     7     5     1\n",
      "5    11     0    11\n",
      "Use iloc to convert the first column of a DataFrame as a Series. \n"
     ]
    },
    {
     "data": {
      "text/html": [
       "<div>\n",
       "<style scoped>\n",
       "    .dataframe tbody tr th:only-of-type {\n",
       "        vertical-align: middle;\n",
       "    }\n",
       "\n",
       "    .dataframe tbody tr th {\n",
       "        vertical-align: top;\n",
       "    }\n",
       "\n",
       "    .dataframe thead th {\n",
       "        text-align: right;\n",
       "    }\n",
       "</style>\n",
       "<table border=\"1\" class=\"dataframe\">\n",
       "  <thead>\n",
       "    <tr style=\"text-align: right;\">\n",
       "      <th></th>\n",
       "      <th>col1</th>\n",
       "    </tr>\n",
       "  </thead>\n",
       "  <tbody>\n",
       "    <tr>\n",
       "      <td>0</td>\n",
       "      <td>1</td>\n",
       "    </tr>\n",
       "    <tr>\n",
       "      <td>1</td>\n",
       "      <td>2</td>\n",
       "    </tr>\n",
       "    <tr>\n",
       "      <td>2</td>\n",
       "      <td>3</td>\n",
       "    </tr>\n",
       "    <tr>\n",
       "      <td>3</td>\n",
       "      <td>4</td>\n",
       "    </tr>\n",
       "    <tr>\n",
       "      <td>4</td>\n",
       "      <td>7</td>\n",
       "    </tr>\n",
       "    <tr>\n",
       "      <td>5</td>\n",
       "      <td>11</td>\n",
       "    </tr>\n",
       "  </tbody>\n",
       "</table>\n",
       "</div>"
      ],
      "text/plain": [
       "   col1\n",
       "0     1\n",
       "1     2\n",
       "2     3\n",
       "3     4\n",
       "4     7\n",
       "5    11"
      ]
     },
     "execution_count": 21,
     "metadata": {},
     "output_type": "execute_result"
    }
   ],
   "source": [
    "dfnew = pd.DataFrame({\"col1\":[1,2,3,4,7,11],\"col2\":[4,5,6,9,5,0],\"col3\":[7,5,8,12,1,11]})\n",
    "print(dfnew)\n",
    "print(\"Use iloc to convert the first column of a DataFrame as a Series. \")\n",
    "dfnew.iloc[:,0:1]"
   ]
  },
  {
   "cell_type": "markdown",
   "metadata": {},
   "source": [
    "**5. Create a DataFram with multiple indice, the result should be the following: here, \"random\" means any integer random number for books. [7 point]**\n",
    "\n",
    "                     Bob     Tom\n",
    " 1st          2nd                    \n",
    "fiction       one     random  random\n",
    "              two     random  random\n",
    "non-fiction   one     random  random\n",
    "              two     random  random\n",
    "sci-fi        one     random  random\n",
    "              two     random  random\n",
    "chapter       one     random  random\n",
    "              two     random  random "
   ]
  },
  {
   "cell_type": "code",
   "execution_count": 16,
   "metadata": {},
   "outputs": [
    {
     "data": {
      "text/html": [
       "<div>\n",
       "<style scoped>\n",
       "    .dataframe tbody tr th:only-of-type {\n",
       "        vertical-align: middle;\n",
       "    }\n",
       "\n",
       "    .dataframe tbody tr th {\n",
       "        vertical-align: top;\n",
       "    }\n",
       "\n",
       "    .dataframe thead th {\n",
       "        text-align: right;\n",
       "    }\n",
       "</style>\n",
       "<table border=\"1\" class=\"dataframe\">\n",
       "  <thead>\n",
       "    <tr style=\"text-align: right;\">\n",
       "      <th></th>\n",
       "      <th></th>\n",
       "      <th>Bob</th>\n",
       "      <th>Tom</th>\n",
       "    </tr>\n",
       "    <tr>\n",
       "      <th>1st</th>\n",
       "      <th>2nd</th>\n",
       "      <th></th>\n",
       "      <th></th>\n",
       "    </tr>\n",
       "  </thead>\n",
       "  <tbody>\n",
       "    <tr>\n",
       "      <td rowspan=\"2\" valign=\"top\">fiction</td>\n",
       "      <td>one</td>\n",
       "      <td>91</td>\n",
       "      <td>7</td>\n",
       "    </tr>\n",
       "    <tr>\n",
       "      <td>two</td>\n",
       "      <td>72</td>\n",
       "      <td>30</td>\n",
       "    </tr>\n",
       "    <tr>\n",
       "      <td rowspan=\"2\" valign=\"top\">non-fiction</td>\n",
       "      <td>one</td>\n",
       "      <td>13</td>\n",
       "      <td>31</td>\n",
       "    </tr>\n",
       "    <tr>\n",
       "      <td>two</td>\n",
       "      <td>55</td>\n",
       "      <td>25</td>\n",
       "    </tr>\n",
       "    <tr>\n",
       "      <td rowspan=\"2\" valign=\"top\">sci-fi</td>\n",
       "      <td>one</td>\n",
       "      <td>22</td>\n",
       "      <td>71</td>\n",
       "    </tr>\n",
       "    <tr>\n",
       "      <td>two</td>\n",
       "      <td>96</td>\n",
       "      <td>23</td>\n",
       "    </tr>\n",
       "    <tr>\n",
       "      <td rowspan=\"2\" valign=\"top\">chapter</td>\n",
       "      <td>one</td>\n",
       "      <td>48</td>\n",
       "      <td>38</td>\n",
       "    </tr>\n",
       "    <tr>\n",
       "      <td>two</td>\n",
       "      <td>0</td>\n",
       "      <td>77</td>\n",
       "    </tr>\n",
       "  </tbody>\n",
       "</table>\n",
       "</div>"
      ],
      "text/plain": [
       "                 Bob  Tom\n",
       "1st         2nd          \n",
       "fiction     one   91    7\n",
       "            two   72   30\n",
       "non-fiction one   13   31\n",
       "            two   55   25\n",
       "sci-fi      one   22   71\n",
       "            two   96   23\n",
       "chapter     one   48   38\n",
       "            two    0   77"
      ]
     },
     "execution_count": 16,
     "metadata": {},
     "output_type": "execute_result"
    }
   ],
   "source": [
    "index = pd.MultiIndex.from_product([['fiction', 'non-fiction','sci-fi','chapter'], ['one', 'two']],\n",
    "                                   names=['1st', '2nd'])\n",
    "# create data\n",
    "databk = np.random.randint(100, size = (8, 2))\n",
    "# create the DataFrame\n",
    "book_data = pd.DataFrame(databk, index=index, columns=['Bob', 'Tom'])\n",
    "book_data\n"
   ]
  },
  {
   "cell_type": "markdown",
   "metadata": {},
   "source": [
    "**6. Write a Pandas program to replace all the NaN values with Zero's in a column of a dataframe. [5 points]. \n",
    "Sample data is a dataset for an exam:\n",
    "  attempts name qualify score\n",
    "0 1 Anastasia yes 12.5\n",
    "1 3 Dima no 9.0\n",
    "2 2 Katherine yes 16.5\n",
    "3 3 James no N/A\n",
    "4 2 Emily no 9.0\n",
    "5 3 Michael yes 20.0\n",
    "6 1 Matthew yes 14.5\n",
    "7 1 Laura no N/A\n",
    "8 2 Kevin no 8.0\n",
    "9 1 Jonas yes 19.0\n",
    "1) Construct a DataFrame and the column in the order as name, score, attempts, qualify\n",
    "2) New DataFrame replacing all missing data with 0.**"
   ]
  },
  {
   "cell_type": "code",
   "execution_count": 19,
   "metadata": {},
   "outputs": [
    {
     "name": "stdout",
     "output_type": "stream",
     "text": [
      "Original DataFrame\n",
      "        name score  attempts qualify\n",
      "0  Anastasia  12.5         1     yes\n",
      "1       Dima     9         3      no\n",
      "2  Katherine  16.5         2     yes\n",
      "3      James   N/A         3      no\n",
      "4      Emily     9         2      no\n",
      "5    Michael    20         3     yes\n",
      "6    Matthew  14.5         1     yes\n",
      "7      Laura   N/A         1      no\n",
      "8      Kevin     8         2      no\n",
      "9      Jonas    19         1     yes\n",
      "\n",
      "New DataFrame replacing all N/A with 0:\n",
      "        name  score  attempts qualify\n",
      "0  Anastasia   12.5         1     yes\n",
      "1       Dima    9.0         3      no\n",
      "2  Katherine   16.5         2     yes\n",
      "3      James    0.0         3      no\n",
      "4      Emily    9.0         2      no\n",
      "5    Michael   20.0         3     yes\n",
      "6    Matthew   14.5         1     yes\n",
      "7      Laura    0.0         1      no\n",
      "8      Kevin    8.0         2      no\n",
      "9      Jonas   19.0         1     yes\n"
     ]
    }
   ],
   "source": [
    "exam_data = {'name': ['Anastasia', 'Dima', 'Katherine', 'James', 'Emily', 'Michael', 'Matthew', 'Laura', 'Kevin', 'Jonas'],\n",
    "        'score': [12.5, 9, 16.5, 'N/A', 9, 20, 14.5, 'N/A', 8, 19],\n",
    "        'attempts': [1, 3, 2, 3, 2, 3, 1, 1, 2, 1],\n",
    "        'qualify': ['yes', 'no', 'yes', 'no', 'no', 'yes', 'yes', 'no', 'no', 'yes']}\n",
    "dfex = pd.DataFrame(exam_data)\n",
    "print(\"Original DataFrame\")\n",
    "print(dfex)\n",
    "dfex['score']=pd.to_numeric(dfex['score'],errors='coerce',downcast='float')\n",
    "dfex =  dfex.fillna(0)\n",
    "\n",
    "print(\"\\nNew DataFrame replacing all N/A with 0:\")\n",
    "print(dfex)"
   ]
  },
  {
   "cell_type": "markdown",
   "metadata": {},
   "source": [
    "**7. [5 points]: sort a given Series; add some data ['500', 'php'] to an existing Series;\n",
    "Given Data Series:\n",
    "0       100\n",
    "1       200\n",
    "2    python\n",
    "3    300.12\n",
    "4       400**"
   ]
  },
  {
   "cell_type": "code",
   "execution_count": 22,
   "metadata": {},
   "outputs": [
    {
     "name": "stdout",
     "output_type": "stream",
     "text": [
      "0       100\n",
      "1       200\n",
      "2    python\n",
      "3    300.12\n",
      "4       400\n",
      "dtype: object\n",
      "\n",
      " Sort series in ascending order:-\n",
      "0       100\n",
      "1       200\n",
      "3    300.12\n",
      "4       400\n",
      "2    python\n",
      "dtype: object\n",
      "\n",
      " Append data:-\n",
      "0       100\n",
      "1       200\n",
      "2    python\n",
      "3    300.12\n",
      "4       400\n",
      "5       500\n",
      "6       php\n",
      "dtype: object\n"
     ]
    }
   ],
   "source": [
    "s = pd.Series(['100','200','python','300.12','400'])\n",
    "print(s)\n",
    "print(\"\\n Sort series in ascending order:-\")\n",
    "print(pd.Series(s).sort_values())\n",
    "print(\"\\n Append data:-\")\n",
    "s1 = pd.Series(['500', 'php'])\n",
    "print(pd.Series(s).append((s1),ignore_index=True))"
   ]
  },
  {
   "cell_type": "markdown",
   "metadata": {},
   "source": [
    "**8. [10 points]: (1) Construct a DataFrame as the given data; (2) Count number of columns of the DataFrame; (3) Select all columns, except one given column 'col3'; (4) Remove first 3 rows of the DataFrame; (5) Remove last 3 rows of the DataFrame. Note: use indexers loc and/or iloc to finish.**\n",
    "**Given data:\n",
    "    col1  col2  col3\n",
    "0     1     4     7\n",
    "1     2     5     5\n",
    "2     3     6     8\n",
    "3     4     9    12\n",
    "4     7     5     1\n",
    "5    11     0    11   **\n"
   ]
  },
  {
   "cell_type": "code",
   "execution_count": 24,
   "metadata": {},
   "outputs": [
    {
     "name": "stdout",
     "output_type": "stream",
     "text": [
      "Construct a DataFrame as the given data\n",
      "   col1  col2  col3\n",
      "0     1     4     7\n",
      "1     2     5     5\n",
      "2     3     6     8\n",
      "3     4     9    12\n",
      "4     7     5     1\n",
      "5    11     0    11\n",
      "\n",
      " Count number of columns of the DataFrame\n",
      "3\n",
      "\n",
      " Select all columns, except one given column 'col3'\n",
      "   col1  col2\n",
      "0     1     4\n",
      "1     2     5\n",
      "2     3     6\n",
      "3     4     9\n",
      "4     7     5\n",
      "5    11     0\n",
      "\n",
      " Remove first 3 rows of the DataFrame\n",
      "   col1  col2  col3\n",
      "3     4     9    12\n",
      "4     7     5     1\n",
      "5    11     0    11\n",
      "\n",
      " Remove last 3 rows of the DataFrame. Note: use indexers loc and/or iloc to finish\n",
      "   col1  col2  col3\n",
      "0     1     4     7\n",
      "1     2     5     5\n",
      "2     3     6     8\n"
     ]
    }
   ],
   "source": [
    "print(\"Construct a DataFrame as the given data\")\n",
    "dfs = pd.DataFrame({\"col1\":[1,2,3,4,7,11],\"col2\":[4,5,6,9,5,0],\"col3\":[7,5,8,12,1,11]})\n",
    "print(dfs)\n",
    "print(\"\\n Count number of columns of the DataFrame\")\n",
    "print(len(dfs.columns))\n",
    "print(\"\\n Select all columns, except one given column 'col3'\")\n",
    "print(dfs.loc[:,dfs.columns != 'col3'])\n",
    "print(\"\\n Remove first 3 rows of the DataFrame\")\n",
    "print(dfs.iloc[3:])\n",
    "print(\"\\n Remove last 3 rows of the DataFrame. Note: use indexers loc and/or iloc to finish\")\n",
    "print(dfs.iloc[:-3])"
   ]
  },
  {
   "cell_type": "markdown",
   "metadata": {},
   "source": [
    "**9. [10 points]: \n",
    "(1). read data from movies.csv file to Pandas\n",
    "(2). get the information of the DataFrame (movies.csv file) including data types and memory usage.\n",
    "(3). count the number of rows and columns of the DataFrame \n",
    "(4). get the details of fifth movie of the DataFrame.\n",
    "(5). display the movies (title, runtime)longer than 30 minutes and shorter than 360 minutes.**"
   ]
  },
  {
   "cell_type": "code",
   "execution_count": 34,
   "metadata": {},
   "outputs": [
    {
     "name": "stdout",
     "output_type": "stream",
     "text": [
      "(1). read data from movies.csv file to Pandas\n",
      "\n",
      " (2). get the information of the DataFrame (movies.csv file) including data types and memory usage.\n",
      "<class 'pandas.core.frame.DataFrame'>\n",
      "RangeIndex: 50 entries, 0 to 49\n",
      "Data columns (total 24 columns):\n",
      "adult                    50 non-null bool\n",
      "belongs_to_collection    10 non-null object\n",
      "budget                   50 non-null int64\n",
      "genres                   50 non-null object\n",
      "homepage                 5 non-null object\n",
      "id                       50 non-null int64\n",
      "imdb_id                  50 non-null object\n",
      "original_language        50 non-null object\n",
      "original_title           50 non-null object\n",
      "overview                 49 non-null object\n",
      "popularity               50 non-null float64\n",
      "poster_path              50 non-null object\n",
      "production_companies     50 non-null object\n",
      "production_countries     50 non-null object\n",
      "release_date             50 non-null object\n",
      "revenue                  50 non-null int64\n",
      "runtime                  50 non-null float64\n",
      "spoken_languages         50 non-null object\n",
      "status                   50 non-null object\n",
      "tagline                  41 non-null object\n",
      "title                    50 non-null object\n",
      "video                    50 non-null bool\n",
      "vote_average             50 non-null float64\n",
      "vote_count               50 non-null int64\n",
      "dtypes: bool(2), float64(3), int64(4), object(15)\n",
      "memory usage: 8.8+ KB\n",
      "None\n",
      "\n",
      " (3). count the number of rows and columns of the DataFrame \n",
      "Number of Rows: 50\n",
      "Number of Columns: 24\n",
      "\n",
      " (4). get the details of fifth movie of the DataFrame.\n",
      "adult                                                                False\n",
      "belongs_to_collection    {'id': 96871, 'name': 'Father of the Bride Col...\n",
      "budget                                                                   0\n",
      "genres                                      [{'id': 35, 'name': 'Comedy'}]\n",
      "homepage                                                               NaN\n",
      "id                                                                   11862\n",
      "imdb_id                                                          tt0113041\n",
      "original_language                                                       en\n",
      "original_title                                 Father of the Bride Part II\n",
      "overview                 Just when George Banks has recovered from his ...\n",
      "popularity                                                         8.38752\n",
      "poster_path                               /e64sOI48hQXyru7naBFyssKFxVd.jpg\n",
      "production_companies     [{'name': 'Sandollar Productions', 'id': 5842}...\n",
      "production_countries     [{'iso_3166_1': 'US', 'name': 'United States o...\n",
      "release_date                                                    1995-02-10\n",
      "revenue                                                           76578911\n",
      "runtime                                                                106\n",
      "spoken_languages                  [{'iso_639_1': 'en', 'name': 'English'}]\n",
      "status                                                            Released\n",
      "tagline                  Just When His World Is Back To Normal... He's ...\n",
      "title                                          Father of the Bride Part II\n",
      "video                                                                False\n",
      "vote_average                                                           5.7\n",
      "vote_count                                                             173\n",
      "Name: 4, dtype: object\n",
      "\n",
      " (5). display the movies (title, runtime)longer than 30 minutes and shorter than 360 minutes.**\n",
      "                             title  runtime\n",
      "0                        Toy Story     81.0\n",
      "1                          Jumanji    104.0\n",
      "2                 Grumpier Old Men    101.0\n",
      "3                Waiting to Exhale    127.0\n",
      "4      Father of the Bride Part II    106.0\n",
      "5                             Heat    170.0\n",
      "6                          Sabrina    127.0\n",
      "7                     Tom and Huck     97.0\n",
      "8                     Sudden Death    106.0\n",
      "9                        GoldenEye    130.0\n",
      "10          The American President    106.0\n",
      "11     Dracula: Dead and Loving It     88.0\n",
      "12                           Balto     78.0\n",
      "13                           Nixon    192.0\n",
      "14                Cutthroat Island    119.0\n",
      "15                          Casino    178.0\n",
      "16           Sense and Sensibility    136.0\n",
      "17                      Four Rooms     98.0\n",
      "18  Ace Ventura: When Nature Calls     90.0\n",
      "19                     Money Train    103.0\n",
      "20                      Get Shorty    105.0\n",
      "21                         Copycat    124.0\n",
      "22                       Assassins    132.0\n",
      "23                          Powder    111.0\n",
      "24               Leaving Las Vegas    112.0\n",
      "25                         Othello    123.0\n",
      "26                    Now and Then    100.0\n",
      "27                      Persuasion    104.0\n",
      "28       The City of Lost Children    108.0\n",
      "29                  Shanghai Triad    108.0\n",
      "30                 Dangerous Minds     99.0\n",
      "31                  Twelve Monkeys    129.0\n",
      "32                Wings of Courage     50.0\n",
      "33                            Babe     89.0\n",
      "34                      Carrington    121.0\n",
      "35                Dead Man Walking    122.0\n",
      "36          Across the Sea of Time     51.0\n",
      "37                    It Takes Two    101.0\n",
      "38                        Clueless     97.0\n",
      "39        Cry, the Beloved Country    106.0\n",
      "40                     Richard III    104.0\n",
      "41                 Dead Presidents    119.0\n",
      "42                     Restoration    117.0\n",
      "43                   Mortal Kombat    101.0\n",
      "44                      To Die For    106.0\n",
      "45   How To Make An American Quilt    116.0\n",
      "46                           Se7en    127.0\n",
      "47                      Pocahontas     81.0\n",
      "48           When Night Is Falling     96.0\n",
      "49              The Usual Suspects    106.0\n"
     ]
    }
   ],
   "source": [
    "print(\"(1). read data from movies.csv file to Pandas\")\n",
    "dfmov = pd.read_csv('C:\\\\Users\\\\Siddhi\\\\Desktop\\\\DataScience\\\\movies.csv')\n",
    "#print(dfmov)\n",
    "print(\"\\n (2). get the information of the DataFrame (movies.csv file) including data types and memory usage.\")\n",
    "result = dfmov.info()\n",
    "print(result)\n",
    "print(\"\\n (3). count the number of rows and columns of the DataFrame \")\n",
    "total_rows=len(dfmov.axes[0])\n",
    "total_cols=len(dfmov.axes[1])\n",
    "print(\"Number of Rows: \"+str(total_rows))\n",
    "print(\"Number of Columns: \"+str(total_cols))\n",
    "print(\"\\n (4). get the details of fifth movie of the DataFrame.\")\n",
    "fithmov = dfmov.iloc[4]\n",
    "print(fithmov)\n",
    "print(\"\\n (5). display the movies (title, runtime)longer than 30 minutes and shorter than 360 minutes.**\")\n",
    "mov_df = dfmov[['title', 'runtime']]\n",
    "result30min = mov_df[(mov_df['runtime'] > 30) & (mov_df['runtime'] < 360)]\n",
    "print(result30min)"
   ]
  },
  {
   "cell_type": "markdown",
   "metadata": {},
   "source": [
    "# Matplotlib: 5 questions, total 50 points.\n"
   ]
  },
  {
   "cell_type": "markdown",
   "metadata": {},
   "source": [
    "**1. [3 points]: plot several lines with different format styles in one command using arrays.\n",
    "Sampled time at 200ms intervals\n",
    "t = np.arange(0., 5., 0.2)\n",
    "green dashes, blue squares and red triangles to plot t, t**2, t**3.**"
   ]
  },
  {
   "cell_type": "code",
   "execution_count": 37,
   "metadata": {},
   "outputs": [
    {
     "data": {
      "text/plain": [
       "[<matplotlib.lines.Line2D at 0x20ecce39d88>,\n",
       " <matplotlib.lines.Line2D at 0x20ecce39fc8>,\n",
       " <matplotlib.lines.Line2D at 0x20eccc65b48>]"
      ]
     },
     "execution_count": 37,
     "metadata": {},
     "output_type": "execute_result"
    },
    {
     "data": {
      "image/png": "[encoded data removed]",
      "text/plain": [
       "<Figure size 432x288 with 1 Axes>"
      ]
     },
     "metadata": {
      "needs_background": "light"
     },
     "output_type": "display_data"
    }
   ],
   "source": [
    "import numpy as np\n",
    "import matplotlib.pyplot as plt\n",
    "\n",
    "# evenly sampled time at 200ms intervals\n",
    "t = np.arange(0., 5., 0.2)\n",
    "\n",
    "# red dashes, blue squares and green triangles\n",
    "plt.plot(t, t, 'g--', t, t**2, 'bs', t, t**3, 'r^')"
   ]
  },
  {
   "cell_type": "markdown",
   "metadata": {},
   "source": [
    "**2. [7 points]: plot line1 and line2 with different styles\n",
    " line 1 points\n",
    "x1 = [10,20,30]\n",
    "y1 = [20,40,10]\n",
    " line 2 points\n",
    "x2 = [10,20,30]\n",
    "y2 = [40,10,30]\n",
    "Set the x and y axes labels as 'x' and 'y';  # 2point\n",
    "Plot lines and/or markers to the Axes: blue,red; dotted, dashed;   # 3point\n",
    "Set a title: \"Plot with two or more lines with different styles\";  # 1point\n",
    "show a legend on the plot as 'line1-dotted', 'line2-dashed'.   # 1point**"
   ]
  },
  {
   "cell_type": "code",
   "execution_count": 39,
   "metadata": {},
   "outputs": [
    {
     "data": {
      "image/png": "[encoded data removed]",
      "text/plain": [
       "<Figure size 432x288 with 1 Axes>"
      ]
     },
     "metadata": {
      "needs_background": "light"
     },
     "output_type": "display_data"
    }
   ],
   "source": [
    "# line 1 points\n",
    "x1 = [10,20,30]\n",
    "y1 = [20,40,10]\n",
    "# line 2 points\n",
    "x2 = [10,20,30]\n",
    "y2 = [40,10,30]\n",
    "plt.xlabel('x')\n",
    "plt.ylabel('y')\n",
    "plt.plot(x1,y1, color='blue', linewidth = 3,  label = 'line1-dotted',linestyle='dotted')\n",
    "plt.plot(x2,y2, color='red', linewidth = 5,  label = 'line2-dashed', linestyle='dashed')\n",
    "plt.title(\"Plot with two or more lines with different styles\")\n",
    "plt.legend()\n",
    "plt.show()"
   ]
  },
  {
   "cell_type": "markdown",
   "metadata": {},
   "source": [
    "**3. [5 points]: draw a scatter plot with empty circles taking a 50-point random distribution in X and Y; set X and Y as x- and y- axes lables;\n",
    "  any color for face and edge, and plotted against each other.**"
   ]
  },
  {
   "cell_type": "code",
   "execution_count": 53,
   "metadata": {},
   "outputs": [
    {
     "data": {
      "image/png": "[encoded data removed]",
      "text/plain": [
       "<Figure size 576x576 with 1 Axes>"
      ]
     },
     "metadata": {
      "needs_background": "light"
     },
     "output_type": "display_data"
    }
   ],
   "source": [
    "import matplotlib.pyplot as plt \n",
    "import numpy as np \n",
    "x = np.random.randn(50) \n",
    "y = np.random.randn(50)\n",
    "plt.scatter(x, y, s=70, facecolors='none', edgecolors='g')\n",
    "plt.xlabel(\"X\")\n",
    "plt.ylabel(\"Y\")\n",
    "plt.show()"
   ]
  },
  {
   "cell_type": "markdown",
   "metadata": {},
   "source": [
    "**4. [5 points]:  create bar plot from a DataFrame.\n",
    "Sample DataFrame:\n",
    "  a b c d e \n",
    "2 4,8,5,7,6\n",
    "4 2,3,4,2,6\n",
    "6 4,7,4,7,8\n",
    "8 2,6,4,8,6\n",
    "10 2,4,3,3,2**"
   ]
  },
  {
   "cell_type": "code",
   "execution_count": 45,
   "metadata": {},
   "outputs": [
    {
     "data": {
      "image/png": "[encoded data removed]",
      "text/plain": [
       "<Figure size 432x288 with 1 Axes>"
      ]
     },
     "metadata": {
      "needs_background": "light"
     },
     "output_type": "display_data"
    }
   ],
   "source": [
    "from pandas import DataFrame\n",
    "a=np.array([[4,8,5,7,6],[2,3,4,2,6],[4,7,4,7,8],[2,6,4,8,6],[2,4,3,3,2]])\n",
    "df=DataFrame(a, columns=['a','b','c','d','e'], index=[2,4,6,8,10])\n",
    "df.plot(kind='bar')\n",
    "plt.show()"
   ]
  },
  {
   "cell_type": "markdown",
   "metadata": {},
   "source": [
    "**5. [total 30 points]:\n",
    "The following dataset for average monthly precipitation. You will create and customize a plot. \n",
    "Month    Precipitation (inches)\n",
    "Jan      0.70\n",
    "Feb      0.75\n",
    "Mar      1.85\n",
    "Apr      2.93\n",
    "May      3.05\n",
    "June     2.02\n",
    "July     1.93\n",
    "Aug      1.62\n",
    "Sept     1.84\n",
    "Oct      1.31\n",
    "Nov      1.39\n",
    "Dec      0.84**"
   ]
  },
  {
   "cell_type": "markdown",
   "metadata": {},
   "source": [
    "**5.1 [10 points]: Begin by creating a plot using the default styles provided by matplotlib.pyplot. You will use months along the x-axis and precip along the y-axis; and set plot size [8,8] for the plot:**"
   ]
  },
  {
   "cell_type": "code",
   "execution_count": 48,
   "metadata": {},
   "outputs": [
    {
     "data": {
      "text/plain": [
       "[<matplotlib.lines.Line2D at 0x20ecd33cf08>]"
      ]
     },
     "execution_count": 48,
     "metadata": {},
     "output_type": "execute_result"
    },
    {
     "data": {
      "image/png": "[encoded data removed]",
      "text/plain": [
       "<Figure size 576x576 with 1 Axes>"
      ]
     },
     "metadata": {
      "needs_background": "light"
     },
     "output_type": "display_data"
    }
   ],
   "source": [
    "# create variables for each month of average precipitation\n",
    "jan = 0.70 \n",
    "feb = 0.75 \n",
    "mar = 1.85 \n",
    "apr = 2.93 \n",
    "may = 3.05 \n",
    "june = 2.02\n",
    "july = 1.93\n",
    "aug = 1.62 \n",
    "sept = 1.84\n",
    "oct = 1.31 \n",
    "nov = 1.39 \n",
    "dec = 0.84 \n",
    "\n",
    "precip = [jan, feb, mar, apr, may, june, july, aug, sept, oct, nov, dec] \n",
    "\n",
    "months = [\"Jan\", \"Feb\", \"Mar\", \"Apr\", \"May\", \"June\", \"July\", \"Aug\", \"Sept\", \"Oct\", \"Nov\", \"Dec\"]\n",
    "\n",
    "plt.rcParams[\"figure.figsize\"] = (8, 8)\n",
    "\n",
    "fig, ax = plt.subplots()\n",
    "\n",
    "ax.plot(months, precip)\n"
   ]
  },
  {
   "cell_type": "markdown",
   "metadata": {},
   "source": [
    "**5.2 [10 points]: Add Title and Axis Labels\n",
    "set plot title as \"Average Monthly Precipitation\";\n",
    "add labels to the axes: x label as \"Month\", y label as \"Precipitation (inches)\"**"
   ]
  },
  {
   "cell_type": "code",
   "execution_count": 50,
   "metadata": {},
   "outputs": [
    {
     "data": {
      "image/png": "[encoded data removed]",
      "text/plain": [
       "<Figure size 576x576 with 1 Axes>"
      ]
     },
     "metadata": {
      "needs_background": "light"
     },
     "output_type": "display_data"
    }
   ],
   "source": [
    "plt.rcParams[\"figure.figsize\"] = (8, 8)\n",
    "\n",
    "plt.rcParams['axes.titlesize'] = 20\n",
    "\n",
    "fig, ax = plt.subplots()\n",
    "\n",
    "ax.plot(months, precip)\n",
    "\n",
    "ax.set(title=\"Average Monthly Precipitation\")\n",
    "\n",
    "ax.set(xlabel=\"Month\", ylabel=\"Precipitation (inches)\");"
   ]
  },
  {
   "cell_type": "markdown",
   "metadata": {},
   "source": [
    "**5.3 [10 points]: Change Plot Type\n",
    "You can turn your plot into a bar plot; \n",
    "also assign a fill color using \"green\".**"
   ]
  },
  {
   "cell_type": "code",
   "execution_count": 52,
   "metadata": {},
   "outputs": [
    {
     "data": {
      "image/png": "[encoded data removed]",
      "text/plain": [
       "<Figure size 576x576 with 1 Axes>"
      ]
     },
     "metadata": {
      "needs_background": "light"
     },
     "output_type": "display_data"
    }
   ],
   "source": [
    "plt.rcParams[\"figure.figsize\"] = (8, 8)\n",
    "\n",
    "fig, ax = plt.subplots()\n",
    "\n",
    "ax.bar(months, precip, color=\"green\")\n",
    "\n",
    "ax.set(title=\"Average Monthly Precipitation\")\n",
    "\n",
    "ax.set(xlabel=\"Month\", ylabel=\"Precipitation (inches)\");\n"
   ]
  },
  {
   "cell_type": "code",
   "execution_count": null,
   "metadata": {},
   "outputs": [],
   "source": []
  }
 ],
 "metadata": {
  "kernelspec": {
   "display_name": "Python 3",
   "language": "python",
   "name": "python3"
  },
  "language_info": {
   "codemirror_mode": {
    "name": "ipython",
    "version": 3
   },
   "file_extension": ".py",
   "mimetype": "text/x-python",
   "name": "python",
   "nbconvert_exporter": "python",
   "pygments_lexer": "ipython3",
   "version": "3.7.4"
  }
 },
 "nbformat": 4,
 "nbformat_minor": 4
}
